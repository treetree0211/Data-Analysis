{
 "cells": [
  {
   "cell_type": "code",
   "execution_count": null,
   "metadata": {},
   "outputs": [],
   "source": [
    "# Udemy online course: analysis data and get insights and visualization\n",
    "# This project is about tackeling the Kaggle Titanic challenge. Who were the \n",
    "# passengers from Titanic and where the passengers come from\n",
    "\n",
    "\n",
    "# A few public dataset website\n",
    "# https://www.data.gov\n",
    "# https://aws.amazon.com/opendata/public-datasets/\n",
    "# "
   ]
  }
 ],
 "metadata": {
  "kernelspec": {
   "display_name": "Python 2",
   "language": "python",
   "name": "python2"
  },
  "language_info": {
   "codemirror_mode": {
    "name": "ipython",
    "version": 2
   },
   "file_extension": ".py",
   "mimetype": "text/x-python",
   "name": "python",
   "nbconvert_exporter": "python",
   "pygments_lexer": "ipython2",
   "version": "2.7.15"
  }
 },
 "nbformat": 4,
 "nbformat_minor": 2
}
